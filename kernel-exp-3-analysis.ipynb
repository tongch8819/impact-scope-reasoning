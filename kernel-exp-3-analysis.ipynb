{
 "cells": [
  {
   "cell_type": "code",
   "execution_count": 13,
   "metadata": {},
   "outputs": [
    {
     "name": "stdout",
     "output_type": "stream",
     "text": [
      "Length: 59990\n"
     ]
    }
   ],
   "source": [
    "# graph_path = \"./kernel-exp/train.graph.txt\"\n",
    "graph_path = \"./data_linux_kernel/train.graph.r20vul.txt\"\n",
    "\n",
    "with open(graph_path, \"r\") as rd:\n",
    "    contents = rd.readlines()\n",
    "print(\"Length: {}\".format(len(contents)))"
   ]
  },
  {
   "cell_type": "code",
   "execution_count": 19,
   "metadata": {},
   "outputs": [],
   "source": [
    "positive_samples = set()\n",
    "count = 0\n",
    "\n",
    "for data in contents:\n",
    "    [node, relation, next_node] = data.strip().split(\"\\t\")\n",
    "    if relation == \"Scope_Of_Influences\":\n",
    "        positive_samples.add((node, next_node))\n",
    "        count += 1"
   ]
  },
  {
   "cell_type": "code",
   "execution_count": 20,
   "metadata": {},
   "outputs": [
    {
     "data": {
      "text/plain": [
       "26618"
      ]
     },
     "execution_count": 20,
     "metadata": {},
     "output_type": "execute_result"
    }
   ],
   "source": [
    "count"
   ]
  },
  {
   "cell_type": "code",
   "execution_count": 38,
   "metadata": {},
   "outputs": [
    {
     "data": {
      "text/plain": [
       "('VUL$100850$CVE-2016-3689',\n",
       " 'CPE$263113$cpe:2.3:o:linux:linux_kernel:3.14.67:*:*:*:*:*:*:*')"
      ]
     },
     "execution_count": 38,
     "metadata": {},
     "output_type": "execute_result"
    }
   ],
   "source": [
    "for ele in positive_samples:\n",
    "    break\n",
    "ele"
   ]
  },
  {
   "cell_type": "code",
   "execution_count": 14,
   "metadata": {},
   "outputs": [],
   "source": [
    "negative_samples = set()\n",
    "entities = set()\n",
    "head_replace_entities = set()\n",
    "tail_replace_entities = set()\n",
    "head_replace='VUL'\n",
    "tail_replace='CPE'\n",
    "\n",
    "for data in contents:\n",
    "    [node, relation, next_node] = data.strip().split(\"\\t\")\n",
    "    entities.add(node)\n",
    "    if node.split('$')[0] == head_replace:\n",
    "        head_replace_entities.add(node)\n",
    "    elif node.split('$')[0] == tail_replace:\n",
    "        tail_replace_entities.add(node)"
   ]
  },
  {
   "cell_type": "code",
   "execution_count": 24,
   "metadata": {},
   "outputs": [
    {
     "data": {
      "text/plain": [
       "['CWE$191$CWE-200', 'ChildOf_inv', 'CWE$191$CWE-200']"
      ]
     },
     "execution_count": 24,
     "metadata": {},
     "output_type": "execute_result"
    }
   ],
   "source": [
    "data.strip().split(\"\\t\")"
   ]
  },
  {
   "cell_type": "code",
   "execution_count": 26,
   "metadata": {},
   "outputs": [
    {
     "data": {
      "text/plain": [
       "{'VUL$100850$CVE-2016-3689',\n",
       " 'VUL$11895$CVE-2004-0075',\n",
       " 'VUL$122591$CVE-2010-1446',\n",
       " 'VUL$128497$CVE-2007-1913',\n",
       " 'VUL$130948$CVE-2010-2478',\n",
       " 'VUL$133487$CVE-2012-0056',\n",
       " 'VUL$135752$CVE-2011-2209',\n",
       " 'VUL$141493$CVE-2008-1514',\n",
       " 'VUL$14545$CVE-2017-15102',\n",
       " 'VUL$1853469$CVE-2020-14331',\n",
       " 'VUL$28078$CVE-2014-4608',\n",
       " 'VUL$32883$CVE-2018-1108',\n",
       " 'VUL$33290$CVE-2016-8630',\n",
       " 'VUL$5130$CVE-1999-0986',\n",
       " 'VUL$52564$CVE-2017-2583',\n",
       " 'VUL$61088$CVE-2019-19052',\n",
       " 'VUL$66692$CVE-2019-15216',\n",
       " 'VUL$78420$CVE-2015-0568',\n",
       " 'VUL$81153$CVE-2007-5337',\n",
       " 'VUL$9071$CVE-2013-0231'}"
      ]
     },
     "execution_count": 26,
     "metadata": {},
     "output_type": "execute_result"
    }
   ],
   "source": [
    "head_replace_entities"
   ]
  },
  {
   "cell_type": "code",
   "execution_count": 28,
   "metadata": {},
   "outputs": [
    {
     "data": {
      "text/plain": [
       "20"
      ]
     },
     "execution_count": 28,
     "metadata": {},
     "output_type": "execute_result"
    }
   ],
   "source": [
    "len(head_replace_entities)"
   ]
  },
  {
   "cell_type": "code",
   "execution_count": 29,
   "metadata": {},
   "outputs": [
    {
     "data": {
      "text/plain": [
       "3349"
      ]
     },
     "execution_count": 29,
     "metadata": {},
     "output_type": "execute_result"
    }
   ],
   "source": [
    "len(tail_replace_entities)"
   ]
  },
  {
   "cell_type": "code",
   "execution_count": 32,
   "metadata": {},
   "outputs": [
    {
     "name": "stdout",
     "output_type": "stream",
     "text": [
      "Limit threshold: 66980\n"
     ]
    }
   ],
   "source": [
    "limit_threshold = len(head_replace_entities)*len(tail_replace_entities)\n",
    "print(\"Limit threshold: {}\".format(limit_threshold))"
   ]
  },
  {
   "cell_type": "code",
   "execution_count": 36,
   "metadata": {},
   "outputs": [
    {
     "name": "stdout",
     "output_type": "stream",
     "text": [
      "positive scale 26618, negative scale 40362, N/P ratio 1.5\n"
     ]
    }
   ],
   "source": [
    "print(\"positive scale {}, negative scale {}, N/P ratio {:.2}\".format(\n",
    "    count, limit_threshold-count, (limit_threshold-count)/count)\n",
    ")"
   ]
  },
  {
   "cell_type": "markdown",
   "metadata": {},
   "source": [
    "# graph"
   ]
  },
  {
   "cell_type": "code",
   "execution_count": 1,
   "metadata": {},
   "outputs": [],
   "source": [
    "import networkx as nx\n"
   ]
  },
  {
   "cell_type": "code",
   "execution_count": 4,
   "metadata": {},
   "outputs": [],
   "source": [
    "G = nx.Graph()\n",
    "G.add_nodes_from([\n",
    "    (1, {\"color\": \"red\"}),\n",
    "    (2, {\"color\": \"blue\"}),\n",
    "    (3, {\"color\": \"red\"}),\n",
    "    (4, {\"color\": \"red\"}),\n",
    "    (5, {\"color\": \"green\"}),\n",
    "])"
   ]
  },
  {
   "cell_type": "code",
   "execution_count": 5,
   "metadata": {},
   "outputs": [],
   "source": [
    "G.add_edges_from([\n",
    "    (4, 5), (1, 3)\n",
    "])"
   ]
  },
  {
   "cell_type": "code",
   "execution_count": 6,
   "metadata": {},
   "outputs": [
    {
     "data": {
      "text/plain": [
       "[1, 2, 3, 4, 5]"
      ]
     },
     "execution_count": 6,
     "metadata": {},
     "output_type": "execute_result"
    }
   ],
   "source": [
    "list(G.nodes())"
   ]
  },
  {
   "cell_type": "code",
   "execution_count": 7,
   "metadata": {},
   "outputs": [
    {
     "data": {
      "text/plain": [
       "[(1, 3), (4, 5)]"
      ]
     },
     "execution_count": 7,
     "metadata": {},
     "output_type": "execute_result"
    }
   ],
   "source": [
    "list(G.edges())"
   ]
  },
  {
   "cell_type": "code",
   "execution_count": 10,
   "metadata": {},
   "outputs": [],
   "source": [
    "import matplotlib.pyplot as plt\n",
    "# %matplotlib inline"
   ]
  },
  {
   "cell_type": "code",
   "execution_count": 11,
   "metadata": {},
   "outputs": [
    {
     "data": {
      "image/png": "[encoded data removed]",
      "text/plain": [
       "<Figure size 432x288 with 1 Axes>"
      ]
     },
     "metadata": {},
     "output_type": "display_data"
    }
   ],
   "source": [
    "plt.subplot(111)\n",
    "nx.draw(G, with_labels=True, font_weight='bold')"
   ]
  },
  {
   "cell_type": "markdown",
   "metadata": {},
   "source": [
    "## digraph"
   ]
  },
  {
   "cell_type": "code",
   "execution_count": 12,
   "metadata": {},
   "outputs": [],
   "source": [
    "DG = nx.DiGraph()\n",
    "DG.add_nodes_from([\n",
    "    (1, {\"color\": \"red\", \"name\": \"VUL\"}),\n",
    "    (2, {\"color\": \"blue\", \"name\": \"CPE\"}),\n",
    "    (3, {\"color\": \"red\", \"name\": \"CWE\"}),\n",
    "    (4, {\"color\": \"red\", \"name\": \"Vendor\"}),\n",
    "])\n",
    "DG.add_edges_from([\n",
    "    (1, 2), (1, 3), (2, 2), (3, 3), (4, 2)\n",
    "])"
   ]
  },
  {
   "cell_type": "code",
   "execution_count": 13,
   "metadata": {},
   "outputs": [
    {
     "data": {
      "image/png": "[encoded data removed]",
      "text/plain": [
       "<Figure size 432x288 with 1 Axes>"
      ]
     },
     "metadata": {},
     "output_type": "display_data"
    }
   ],
   "source": [
    "plt.subplot(111)\n",
    "nx.draw(DG, with_labels=True, font_weight='bold')"
   ]
  },
  {
   "cell_type": "code",
   "execution_count": null,
   "metadata": {},
   "outputs": [],
   "source": []
  }
 ],
 "metadata": {
  "kernelspec": {
   "display_name": "Python 3",
   "language": "python",
   "name": "python3"
  },
  "language_info": {
   "codemirror_mode": {
    "name": "ipython",
    "version": 3
   },
   "file_extension": ".py",
   "mimetype": "text/x-python",
   "name": "python",
   "nbconvert_exporter": "python",
   "pygments_lexer": "ipython3",
   "version": "3.8.5"
  }
 },
 "nbformat": 4,
 "nbformat_minor": 4
}
